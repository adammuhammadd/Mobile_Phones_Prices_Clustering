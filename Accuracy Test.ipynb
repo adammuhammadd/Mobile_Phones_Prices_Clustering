{
 "cells": [
  {
   "cell_type": "code",
   "execution_count": 1,
   "metadata": {},
   "outputs": [],
   "source": [
    "import numpy as np\n",
    "import matplotlib.pyplot as plt\n",
    "import pandas as pd"
   ]
  },
  {
   "cell_type": "code",
   "execution_count": 131,
   "metadata": {},
   "outputs": [],
   "source": [
    "df = pd.read_csv('phones_data_after_preprocessing.csv')"
   ]
  },
  {
   "cell_type": "code",
   "execution_count": 132,
   "metadata": {},
   "outputs": [
    {
     "data": {
      "text/html": [
       "<div>\n",
       "<style scoped>\n",
       "    .dataframe tbody tr th:only-of-type {\n",
       "        vertical-align: middle;\n",
       "    }\n",
       "\n",
       "    .dataframe tbody tr th {\n",
       "        vertical-align: top;\n",
       "    }\n",
       "\n",
       "    .dataframe thead th {\n",
       "        text-align: right;\n",
       "    }\n",
       "</style>\n",
       "<table border=\"1\" class=\"dataframe\">\n",
       "  <thead>\n",
       "    <tr style=\"text-align: right;\">\n",
       "      <th></th>\n",
       "      <th>brand_name</th>\n",
       "      <th>model_name</th>\n",
       "      <th>os</th>\n",
       "      <th>popularity</th>\n",
       "      <th>best_price</th>\n",
       "      <th>lowest_price</th>\n",
       "      <th>highest_price</th>\n",
       "      <th>sellers_amount</th>\n",
       "      <th>screen_size</th>\n",
       "      <th>memory_size</th>\n",
       "      <th>battery_size</th>\n",
       "      <th>release_date</th>\n",
       "      <th>cluster</th>\n",
       "    </tr>\n",
       "  </thead>\n",
       "  <tbody>\n",
       "    <tr>\n",
       "      <th>0</th>\n",
       "      <td>ALCATEL</td>\n",
       "      <td>1 1/8GB Bluish Black (5033D-2JALUAA)</td>\n",
       "      <td>Android</td>\n",
       "      <td>422</td>\n",
       "      <td>878800</td>\n",
       "      <td>456976000</td>\n",
       "      <td>456976000</td>\n",
       "      <td>36</td>\n",
       "      <td>5.00</td>\n",
       "      <td>8</td>\n",
       "      <td>2000</td>\n",
       "      <td>10-2020</td>\n",
       "      <td>1</td>\n",
       "    </tr>\n",
       "    <tr>\n",
       "      <th>1</th>\n",
       "      <td>ALCATEL</td>\n",
       "      <td>1 5033D 1/16GB Volcano Black (5033D-2LALUAF)</td>\n",
       "      <td>Android</td>\n",
       "      <td>323</td>\n",
       "      <td>937560</td>\n",
       "      <td>487531200</td>\n",
       "      <td>487531200</td>\n",
       "      <td>36</td>\n",
       "      <td>5.00</td>\n",
       "      <td>16</td>\n",
       "      <td>2000</td>\n",
       "      <td>9-2020</td>\n",
       "      <td>1</td>\n",
       "    </tr>\n",
       "    <tr>\n",
       "      <th>2</th>\n",
       "      <td>ALCATEL</td>\n",
       "      <td>1 5033D 1/16GB Volcano Black (5033D-2LALUAF)</td>\n",
       "      <td>Android</td>\n",
       "      <td>299</td>\n",
       "      <td>937560</td>\n",
       "      <td>487531200</td>\n",
       "      <td>487531200</td>\n",
       "      <td>36</td>\n",
       "      <td>5.00</td>\n",
       "      <td>16</td>\n",
       "      <td>2000</td>\n",
       "      <td>9-2020</td>\n",
       "      <td>1</td>\n",
       "    </tr>\n",
       "    <tr>\n",
       "      <th>3</th>\n",
       "      <td>ALCATEL</td>\n",
       "      <td>1 5033D 1/16GB Volcano Black (5033D-2LALUAF)</td>\n",
       "      <td>Android</td>\n",
       "      <td>287</td>\n",
       "      <td>937560</td>\n",
       "      <td>487531200</td>\n",
       "      <td>487531200</td>\n",
       "      <td>36</td>\n",
       "      <td>5.00</td>\n",
       "      <td>16</td>\n",
       "      <td>2000</td>\n",
       "      <td>9-2020</td>\n",
       "      <td>1</td>\n",
       "    </tr>\n",
       "    <tr>\n",
       "      <th>4</th>\n",
       "      <td>Nokia</td>\n",
       "      <td>1.3 1/16GB Charcoal</td>\n",
       "      <td>Android</td>\n",
       "      <td>1047</td>\n",
       "      <td>1039480</td>\n",
       "      <td>540529600</td>\n",
       "      <td>540529600</td>\n",
       "      <td>10</td>\n",
       "      <td>5.71</td>\n",
       "      <td>16</td>\n",
       "      <td>3000</td>\n",
       "      <td>4-2020</td>\n",
       "      <td>1</td>\n",
       "    </tr>\n",
       "  </tbody>\n",
       "</table>\n",
       "</div>"
      ],
      "text/plain": [
       "  brand_name                                    model_name       os  \\\n",
       "0    ALCATEL          1 1/8GB Bluish Black (5033D-2JALUAA)  Android   \n",
       "1    ALCATEL  1 5033D 1/16GB Volcano Black (5033D-2LALUAF)  Android   \n",
       "2    ALCATEL  1 5033D 1/16GB Volcano Black (5033D-2LALUAF)  Android   \n",
       "3    ALCATEL  1 5033D 1/16GB Volcano Black (5033D-2LALUAF)  Android   \n",
       "4      Nokia                           1.3 1/16GB Charcoal  Android   \n",
       "\n",
       "   popularity  best_price  lowest_price  highest_price  sellers_amount  \\\n",
       "0         422      878800     456976000      456976000              36   \n",
       "1         323      937560     487531200      487531200              36   \n",
       "2         299      937560     487531200      487531200              36   \n",
       "3         287      937560     487531200      487531200              36   \n",
       "4        1047     1039480     540529600      540529600              10   \n",
       "\n",
       "   screen_size  memory_size  battery_size release_date  cluster  \n",
       "0         5.00            8          2000      10-2020        1  \n",
       "1         5.00           16          2000       9-2020        1  \n",
       "2         5.00           16          2000       9-2020        1  \n",
       "3         5.00           16          2000       9-2020        1  \n",
       "4         5.71           16          3000       4-2020        1  "
      ]
     },
     "execution_count": 132,
     "metadata": {},
     "output_type": "execute_result"
    }
   ],
   "source": [
    "df1= df.drop(['Unnamed: 0'], axis=1)\n",
    "df1.head()"
   ]
  },
  {
   "cell_type": "code",
   "execution_count": 133,
   "metadata": {},
   "outputs": [],
   "source": [
    "X=df1.iloc[:, [4, 9]].values\n",
    "Y=df1.iloc[:, [0,1,2,3,5,6,7,8,10,11,12]].values"
   ]
  },
  {
   "cell_type": "code",
   "execution_count": 134,
   "metadata": {},
   "outputs": [
    {
     "data": {
      "text/plain": [
       "array([[ 878800,       8],\n",
       "       [ 937560,      16],\n",
       "       [ 937560,      16],\n",
       "       ...,\n",
       "       [4578080,     128],\n",
       "       [9752600,     128],\n",
       "       [ 471640,      95]], dtype=int64)"
      ]
     },
     "execution_count": 134,
     "metadata": {},
     "output_type": "execute_result"
    }
   ],
   "source": [
    "X"
   ]
  },
  {
   "cell_type": "code",
   "execution_count": 135,
   "metadata": {},
   "outputs": [
    {
     "data": {
      "text/plain": [
       "array([['ALCATEL', '1 1/8GB Bluish Black (5033D-2JALUAA)', 'Android',\n",
       "        ..., 2000, '10-2020', 1],\n",
       "       ['ALCATEL', '1 5033D 1/16GB Volcano Black (5033D-2LALUAF)',\n",
       "        'Android', ..., 2000, '9-2020', 1],\n",
       "       ['ALCATEL', '1 5033D 1/16GB Volcano Black (5033D-2LALUAF)',\n",
       "        'Android', ..., 2000, '9-2020', 1],\n",
       "       ...,\n",
       "       ['HUAWEI', 'nova 5T 6/128GB Black (51094MEU)', 'Android', ...,\n",
       "        3750, '11-2019', 1],\n",
       "       ['ZTE', 'nubia Red Magic 5G 8/128GB Black', 'Android', ..., 4500,\n",
       "        '10-2020', 0],\n",
       "       ['Sigma mobile', 'x-style 35 Screen', 'Other', ..., 1750,\n",
       "        '1-2020', 1]], dtype=object)"
      ]
     },
     "execution_count": 135,
     "metadata": {},
     "output_type": "execute_result"
    }
   ],
   "source": [
    "Y"
   ]
  },
  {
   "cell_type": "code",
   "execution_count": 136,
   "metadata": {},
   "outputs": [],
   "source": [
    "from sklearn.model_selection import train_test_split\n",
    "X_train, X_test, Y_train, Y_test = train_test_split(X, Y, test_size = 0.2, random_state = 0) "
   ]
  },
  {
   "cell_type": "code",
   "execution_count": 137,
   "metadata": {},
   "outputs": [
    {
     "data": {
      "text/plain": [
       "array([[ 2002000,       64],\n",
       "       [ 3760120,      128],\n",
       "       [ 3676920,      128],\n",
       "       ...,\n",
       "       [10290800,       64],\n",
       "       [ 2842840,       64],\n",
       "       [ 2750800,       64]], dtype=int64)"
      ]
     },
     "execution_count": 137,
     "metadata": {},
     "output_type": "execute_result"
    }
   ],
   "source": [
    "X_train"
   ]
  },
  {
   "cell_type": "code",
   "execution_count": 138,
   "metadata": {},
   "outputs": [
    {
     "data": {
      "text/plain": [
       "array([['LG', 'G6 64GB Black (LGH870DS.ACISBK)', 'Android', ..., 3300,\n",
       "        '3-2017', 1],\n",
       "       ['Xiaomi', 'Pocophone F1 6/128GB Blue', 'Android', ..., 4000,\n",
       "        '8-2018', 1],\n",
       "       ['Motorola', 'One Fusion+ 6/128GB Blue (PAJW0006RS)', 'Android',\n",
       "        ..., 5000, '9-2020', 1],\n",
       "       ...,\n",
       "       ['Apple', 'iPhone XS 64GB Space Gray (MT9E2)', 'iOS', ..., 2568,\n",
       "        '9-2018', 0],\n",
       "       ['Oukitel', 'K9 4/64 Black', 'Android', ..., 6000, '7-2019', 1],\n",
       "       ['Motorola', 'One Power XT1942-1 4/64GB Dual Sim Black',\n",
       "        'Android', ..., 5000, '3-2019', 1]], dtype=object)"
      ]
     },
     "execution_count": 138,
     "metadata": {},
     "output_type": "execute_result"
    }
   ],
   "source": [
    "Y_train"
   ]
  },
  {
   "cell_type": "code",
   "execution_count": 146,
   "metadata": {},
   "outputs": [
    {
     "data": {
      "text/plain": [
       "array([[ 5706480,      128],\n",
       "       [ 5649800,       64],\n",
       "       [ 1660360,       64],\n",
       "       [ 8759400,      128],\n",
       "       [  810160,       95],\n",
       "       [ 3216720,       64],\n",
       "       [ 2011880,       32],\n",
       "       [ 2171000,       16],\n",
       "       [ 1644240,       32],\n",
       "       [ 8734960,      128],\n",
       "       [ 7523360,      128],\n",
       "       [ 8734960,      128],\n",
       "       [  344760,        0],\n",
       "       [  340600,       95],\n",
       "       [ 2057640,       64],\n",
       "       [ 1143480,       16],\n",
       "       [ 1346800,       32],\n",
       "       [ 2936960,      128],\n",
       "       [18817760,      512],\n",
       "       [ 1460680,       64],\n",
       "       [28775760,      256],\n",
       "       [  268840,        0],\n",
       "       [ 8062600,      128],\n",
       "       [  662480,        0],\n",
       "       [ 1622920,       32],\n",
       "       [  963040,       16],\n",
       "       [ 1945840,       32],\n",
       "       [ 2178280,       32],\n",
       "       [ 3719040,      128],\n",
       "       [11089520,      128],\n",
       "       [ 4700280,       64],\n",
       "       [10925720,      128],\n",
       "       [ 3380000,       16],\n",
       "       [ 2547480,       64],\n",
       "       [ 1022840,       16],\n",
       "       [17422600,      256],\n",
       "       [ 1108640,       16],\n",
       "       [ 2335840,       64],\n",
       "       [  311480,       95],\n",
       "       [  566800,       95],\n",
       "       [16496480,      256],\n",
       "       [ 1144000,       16],\n",
       "       [ 1247480,       16],\n",
       "       [ 2442440,      128],\n",
       "       [ 1818960,       32],\n",
       "       [ 1554280,       64],\n",
       "       [ 1323920,        8],\n",
       "       [ 1416480,       32],\n",
       "       [ 1524120,       64],\n",
       "       [ 4077840,      128],\n",
       "       [  312520,       95],\n",
       "       [11877840,      512],\n",
       "       [ 5907200,      128],\n",
       "       [ 1065480,        0],\n",
       "       [ 1740960,       32],\n",
       "       [ 2336880,      128],\n",
       "       [ 2325960,       32],\n",
       "       [ 9287200,      128],\n",
       "       [11879920,      128],\n",
       "       [ 8091200,      256],\n",
       "       [  186680,        0],\n",
       "       [ 1878760,       32],\n",
       "       [  170560,       95],\n",
       "       [23000640,      256],\n",
       "       [ 7413640,      256],\n",
       "       [ 1800760,       64],\n",
       "       [ 3067480,      128],\n",
       "       [ 1258400,       16],\n",
       "       [ 1597440,       16],\n",
       "       [ 4860960,      128],\n",
       "       [ 2389400,       32],\n",
       "       [ 4233320,      128],\n",
       "       [ 3847480,       32],\n",
       "       [13337480,       64],\n",
       "       [ 1308840,       16],\n",
       "       [  340600,        0],\n",
       "       [ 2703480,       64],\n",
       "       [ 2817360,      128],\n",
       "       [ 1248000,       32],\n",
       "       [ 4239040,      128],\n",
       "       [ 3596320,       64],\n",
       "       [ 2963480,       64],\n",
       "       [ 3771560,       32],\n",
       "       [ 7824960,       64],\n",
       "       [17059120,      128],\n",
       "       [ 5159960,       64],\n",
       "       [  246480,        0],\n",
       "       [ 2993640,      128],\n",
       "       [  775320,       95],\n",
       "       [  718640,       95],\n",
       "       [ 2186080,       64],\n",
       "       [ 1195480,       16],\n",
       "       [ 2620280,       64],\n",
       "       [  730600,       95],\n",
       "       [ 2303600,       64],\n",
       "       [ 6471920,      256],\n",
       "       [ 2492360,       64],\n",
       "       [ 5090800,      128],\n",
       "       [ 1029080,       16],\n",
       "       [ 2178800,       32],\n",
       "       [ 5708040,       32],\n",
       "       [ 2471040,       64],\n",
       "       [ 2992080,       64],\n",
       "       [ 2652000,      128],\n",
       "       [ 5236920,       64],\n",
       "       [  385320,        0],\n",
       "       [12448280,       64],\n",
       "       [ 2217800,      128],\n",
       "       [ 2210520,       64],\n",
       "       [ 9681360,      128],\n",
       "       [  310960,        0],\n",
       "       [ 1583920,       32],\n",
       "       [  278720,       95],\n",
       "       [  317200,       95],\n",
       "       [  421200,       95],\n",
       "       [ 1788800,       64],\n",
       "       [ 1855880,       32],\n",
       "       [ 2709200,      128],\n",
       "       [  471640,       95],\n",
       "       [ 3090360,       64],\n",
       "       [ 4709640,       64],\n",
       "       [ 1620840,       32],\n",
       "       [10892960,      512],\n",
       "       [ 8359520,      512],\n",
       "       [ 8287240,      128],\n",
       "       [  111280,        0],\n",
       "       [  882440,        8],\n",
       "       [ 3712280,       64],\n",
       "       [ 6518200,      256],\n",
       "       [  848120,       16],\n",
       "       [ 3216720,       64],\n",
       "       [ 6586840,      128],\n",
       "       [11788400,      256],\n",
       "       [  114400,       95],\n",
       "       [ 1447160,       32],\n",
       "       [ 8713120,      256],\n",
       "       [18463640,      128],\n",
       "       [  259480,       95],\n",
       "       [16341520,      256],\n",
       "       [ 4661800,      128],\n",
       "       [  303160,        0],\n",
       "       [18000840,      512],\n",
       "       [ 2808000,       32],\n",
       "       [  197080,        0],\n",
       "       [ 1814800,       16],\n",
       "       [  208000,        0],\n",
       "       [ 2652520,       64],\n",
       "       [ 2455440,      128],\n",
       "       [ 1546480,       32],\n",
       "       [16461120,      512],\n",
       "       [ 2770560,       64],\n",
       "       [ 1116960,       16],\n",
       "       [ 2690480,       32],\n",
       "       [ 1815320,      128],\n",
       "       [  206960,        0],\n",
       "       [ 1126840,       16],\n",
       "       [13910520,      128],\n",
       "       [ 1070680,       16],\n",
       "       [ 1351480,       16],\n",
       "       [ 1661400,       32],\n",
       "       [ 2594280,       64],\n",
       "       [ 2219360,       16],\n",
       "       [ 2016040,      128],\n",
       "       [17675840,      128],\n",
       "       [  419640,       95],\n",
       "       [ 2912000,       16],\n",
       "       [10422880,      128],\n",
       "       [ 2685280,       64],\n",
       "       [ 1397240,       16],\n",
       "       [  193960,        0],\n",
       "       [ 7704840,      256],\n",
       "       [  554840,       95],\n",
       "       [ 2598960,      128],\n",
       "       [ 4043520,       64],\n",
       "       [ 2694120,       16],\n",
       "       [ 7046000,      128],\n",
       "       [ 2178280,       32],\n",
       "       [  478920,       95],\n",
       "       [ 3466840,       64],\n",
       "       [ 1559480,       32],\n",
       "       [ 2403960,       64],\n",
       "       [  365040,       95],\n",
       "       [ 4286360,      128],\n",
       "       [ 1973920,       32],\n",
       "       [ 8482760,      128],\n",
       "       [25605840,      512],\n",
       "       [12031240,     1000],\n",
       "       [ 2507440,      128],\n",
       "       [ 1308840,       32],\n",
       "       [  456040,        0],\n",
       "       [ 9419280,      128],\n",
       "       [ 5719480,      128],\n",
       "       [ 1414400,       32],\n",
       "       [  156520,        0],\n",
       "       [ 1828320,       32],\n",
       "       [ 2063360,       64],\n",
       "       [ 3635320,      128],\n",
       "       [ 4584320,      128],\n",
       "       [10666760,      256],\n",
       "       [ 2572960,       64],\n",
       "       [ 2371200,       32],\n",
       "       [ 2053480,       64],\n",
       "       [ 2652520,       64],\n",
       "       [ 2313480,       64],\n",
       "       [ 1559480,        8],\n",
       "       [19329960,      512],\n",
       "       [ 2741440,       64],\n",
       "       [ 1334840,        4],\n",
       "       [ 2605200,       64],\n",
       "       [ 2481960,       64],\n",
       "       [ 2874040,       64],\n",
       "       [ 7794800,      128],\n",
       "       [ 4556240,      128],\n",
       "       [ 1443000,       16],\n",
       "       [ 3157440,       64],\n",
       "       [ 3118440,       64],\n",
       "       [ 1469520,       64],\n",
       "       [ 1828320,       32],\n",
       "       [ 5335200,      128],\n",
       "       [ 5233280,      128],\n",
       "       [  711360,        0],\n",
       "       [11924640,     1000],\n",
       "       [  937560,       16],\n",
       "       [ 1493440,       32],\n",
       "       [ 3328000,      128],\n",
       "       [  303680,       95],\n",
       "       [ 2735720,      128],\n",
       "       [ 4477200,      128],\n",
       "       [20237360,      256],\n",
       "       [ 1790880,       64],\n",
       "       [ 3647280,       64],\n",
       "       [ 1559480,        8],\n",
       "       [15599480,      256],\n",
       "       [ 3493360,       16],\n",
       "       [ 3972800,       64],\n",
       "       [  339040,        0],\n",
       "       [  468000,       95],\n",
       "       [ 4295720,      128],\n",
       "       [ 6759480,      128],\n",
       "       [ 2118480,       16],\n",
       "       [ 1407640,       16],\n",
       "       [10368800,      256],\n",
       "       [  287040,        0],\n",
       "       [12575680,      256],\n",
       "       [ 2538640,       32]], dtype=int64)"
      ]
     },
     "execution_count": 146,
     "metadata": {},
     "output_type": "execute_result"
    }
   ],
   "source": [
    "X_test"
   ]
  },
  {
   "cell_type": "code",
   "execution_count": 147,
   "metadata": {},
   "outputs": [
    {
     "data": {
      "text/plain": [
       "array([['OPPO', 'Reno4 Z 5G 8/128GB Black', 'Android', ..., 4000,\n",
       "        '10-2020', 0],\n",
       "       ['Honor', '10 6/64GB Black', 'Android', ..., 3400, '6-2018', 0],\n",
       "       ['Tecno', 'Spark 6 Go KE5j 3/64GB Aqua Blue (4895180762918)',\n",
       "        'Android', ..., 5000, '11-2020', 1],\n",
       "       ...,\n",
       "       ['Nokia', '105 Dual Sim New Black (A00028315)', 'Other', ..., 800,\n",
       "        '9-2017', 1],\n",
       "       ['Apple', 'iPhone XS Max 256GB Gold (MT552)', 'iOS', ..., 3174,\n",
       "        '9-2018', 0],\n",
       "       ['Samsung', 'Galaxy M10S M107F 3/32GB Black', 'Android', ...,\n",
       "        4000, '4-2020', 1]], dtype=object)"
      ]
     },
     "execution_count": 147,
     "metadata": {},
     "output_type": "execute_result"
    }
   ],
   "source": [
    "Y_test"
   ]
  },
  {
   "cell_type": "code",
   "execution_count": 139,
   "metadata": {},
   "outputs": [],
   "source": [
    "from sklearn.cluster import KMeans"
   ]
  },
  {
   "cell_type": "code",
   "execution_count": 140,
   "metadata": {},
   "outputs": [
    {
     "data": {
      "text/plain": [
       "array([1, 1, 1, 1, 1, 1, 0, 0, 1, 1, 1, 1, 0, 1, 0, 1, 0, 1, 1, 1, 1, 1,\n",
       "       0, 1, 1, 0, 0, 1, 0, 0, 1, 0, 1, 0, 1, 1, 0, 1, 1, 1, 0, 1, 1, 1,\n",
       "       0, 1, 1, 1, 1, 1, 1, 1, 0, 0, 1, 1, 0, 0, 1, 0, 1, 1, 1, 2, 0, 1,\n",
       "       0, 1, 1, 1, 1, 1, 0, 1, 0, 1, 1, 1, 1, 0, 1, 1, 1, 1, 1, 0, 1, 1,\n",
       "       1, 1, 1, 1, 1, 0, 0, 1, 1, 1, 1, 0, 1, 1, 1, 1, 1, 2, 1, 1, 1, 1,\n",
       "       0, 1, 2, 1, 1, 1, 1, 1, 1, 1, 0, 1, 0, 1, 1, 1, 1, 0, 1, 0, 1, 1,\n",
       "       1, 1, 2, 1, 1, 1, 1, 1, 1, 1, 2, 2, 0, 1, 2, 1, 2, 1, 0, 0, 1, 1,\n",
       "       1, 1, 1, 1, 1, 1, 1, 1, 2, 0, 1, 1, 1, 1, 1, 1, 1, 1, 1, 1, 1, 1,\n",
       "       1, 1, 1, 1, 0, 1, 1, 1, 1, 1, 1, 1, 1, 1, 1, 1, 1, 1, 1, 1, 1, 1,\n",
       "       1, 0, 1, 1, 2, 0, 1, 0, 1, 1, 1, 1, 1, 1, 0, 1, 1, 0, 1, 0, 2, 1,\n",
       "       1, 1, 1, 1, 1, 1, 1, 0, 1, 1, 1, 1, 1, 0, 1, 1, 0, 1, 1, 1, 1, 0,\n",
       "       1, 1, 0, 1, 1, 0, 1, 1, 1, 1, 1, 2, 1, 0, 1, 1, 1, 1, 1, 2, 2, 1,\n",
       "       1, 1, 1, 1, 1, 1, 1, 1, 1, 1, 0, 1, 1, 2, 0, 1, 1, 1, 1, 0, 1, 1,\n",
       "       1, 2, 0, 1, 1, 1, 1, 1, 1, 1, 1, 1, 1, 2, 1, 0, 1, 1, 1, 1, 1, 0,\n",
       "       1, 1, 1, 1, 1, 1, 1, 1, 1, 1, 1, 0, 1, 1, 1, 0, 1, 1, 1, 1, 1, 1,\n",
       "       1, 2, 1, 1, 1, 1, 1, 2, 1, 0, 1, 1, 1, 1, 1, 1, 1, 1, 1, 1, 1, 1,\n",
       "       2, 1, 0, 1, 1, 0, 1, 1, 0, 1, 1, 1, 1, 0, 1, 1, 1, 1, 1, 1, 2, 1,\n",
       "       1, 1, 1, 0, 1, 0, 1, 1, 0, 1, 1, 1, 1, 1, 1, 1, 1, 0, 1, 2, 1, 1,\n",
       "       1, 1, 1, 1, 1, 0, 0, 1, 1, 1, 1, 1, 2, 1, 1, 1, 1, 1, 1, 0, 1, 1,\n",
       "       1, 1, 1, 1, 2, 1, 1, 0, 1, 1, 1, 1, 1, 1, 1, 1, 1, 1, 1, 1, 2, 1,\n",
       "       1, 2, 0, 1, 1, 1, 2, 1, 2, 1, 1, 0, 1, 1, 1, 0, 1, 0, 1, 0, 0, 1,\n",
       "       1, 1, 1, 2, 1, 1, 0, 2, 0, 1, 0, 1, 1, 0, 0, 1, 0, 1, 1, 1, 1, 1,\n",
       "       1, 1, 1, 1, 1, 1, 1, 1, 1, 0, 1, 1, 1, 1, 1, 1, 1, 1, 1, 0, 1, 2,\n",
       "       0, 1, 1, 1, 1, 0, 1, 1, 1, 1, 2, 1, 0, 1, 1, 0, 1, 1, 2, 1, 1, 1,\n",
       "       1, 1, 1, 1, 1, 1, 1, 1, 1, 1, 1, 1, 1, 0, 1, 1, 1, 1, 1, 1, 1, 1,\n",
       "       1, 1, 1, 1, 0, 1, 1, 2, 1, 1, 1, 1, 0, 0, 1, 1, 0, 1, 1, 1, 1, 1,\n",
       "       0, 0, 1, 1, 1, 1, 0, 1, 1, 1, 1, 1, 1, 0, 1, 1, 1, 1, 1, 2, 1, 1,\n",
       "       1, 1, 1, 1, 0, 1, 1, 1, 2, 0, 0, 1, 2, 1, 1, 1, 2, 1, 1, 1, 1, 1,\n",
       "       1, 1, 1, 1, 1, 1, 1, 1, 1, 1, 1, 1, 1, 2, 1, 0, 1, 1, 1, 1, 1, 1,\n",
       "       1, 1, 1, 1, 1, 2, 1, 1, 0, 1, 1, 2, 1, 1, 1, 1, 1, 1, 2, 0, 1, 0,\n",
       "       2, 2, 1, 1, 1, 1, 1, 1, 0, 2, 1, 1, 0, 1, 1, 1, 1, 0, 1, 1, 0, 1,\n",
       "       1, 0, 1, 1, 0, 1, 1, 1, 0, 1, 1, 1, 1, 1, 1, 0, 1, 1, 0, 0, 1, 1,\n",
       "       1, 1, 1, 1, 0, 0, 1, 0, 0, 1, 2, 1, 0, 1, 1, 2, 1, 1, 1, 1, 1, 1,\n",
       "       1, 1, 1, 1, 0, 0, 1, 1, 1, 1, 1, 1, 1, 2, 2, 1, 2, 0, 1, 1, 1, 1,\n",
       "       1, 0, 1, 1, 0, 1, 0, 1, 1, 0, 1, 1, 0, 1, 1, 1, 1, 2, 0, 1, 0, 1,\n",
       "       1, 1, 0, 0, 1, 0, 1, 0, 1, 1, 1, 1, 1, 1, 0, 1, 1, 1, 0, 1, 0, 0,\n",
       "       1, 1, 1, 1, 1, 1, 1, 1, 0, 1, 1, 1, 2, 1, 2, 1, 1, 1, 1, 1, 1, 1,\n",
       "       1, 1, 1, 0, 0, 1, 1, 1, 1, 1, 1, 1, 1, 1, 0, 1, 0, 1, 1, 1, 1, 1,\n",
       "       1, 1, 1, 1, 1, 0, 1, 1, 1, 0, 1, 1, 0, 1, 1, 1, 1, 1, 1, 1, 0, 1,\n",
       "       1, 1, 1, 1, 1, 1, 1, 1, 1, 1, 1, 1, 0, 1, 1, 1, 1, 1, 1, 1, 0, 0,\n",
       "       1, 1, 1, 1, 1, 2, 1, 1, 1, 1, 1, 1, 1, 1, 1, 0, 0, 1, 1, 1, 1, 1,\n",
       "       1, 1, 1, 1, 0, 1, 1, 1, 1, 1, 1, 1, 1, 1, 1, 1, 1, 0, 1, 2, 1, 1,\n",
       "       0, 1, 0, 1, 1, 1, 1, 0, 1, 1, 1, 1, 1, 1, 0, 1, 1, 1, 1, 2, 1, 1,\n",
       "       1, 0, 1, 1, 1, 1, 0, 1, 0, 1, 0, 1, 1, 1, 1, 1, 0, 0, 1, 1, 1, 0,\n",
       "       1, 2, 1, 0, 1, 2, 1, 1, 0, 1, 1])"
      ]
     },
     "execution_count": 140,
     "metadata": {},
     "output_type": "execute_result"
    }
   ],
   "source": [
    "# Menjalankan K-Means Clustering ke dalam dataset\n",
    "kmeans = KMeans(n_clusters = 3, init = 'k-means++', random_state = 42)\n",
    "y_true=kmeans.fit_predict(X_train, Y_train)\n",
    "y_true"
   ]
  },
  {
   "cell_type": "code",
   "execution_count": 141,
   "metadata": {},
   "outputs": [
    {
     "data": {
      "text/plain": [
       "array([0, 0, 1, 0, 1, 1, 1, 1, 1, 0, 0, 0, 1, 1, 1, 1, 1, 1, 2, 1, 2, 1,\n",
       "       0, 1, 1, 1, 1, 1, 1, 0, 1, 0, 1, 1, 1, 2, 1, 1, 1, 1, 2, 1, 1, 1,\n",
       "       1, 1, 1, 1, 1, 1, 1, 0, 0, 1, 1, 1, 1, 0, 0, 0, 1, 1, 1, 2, 0, 1,\n",
       "       1, 1, 1, 1, 1, 1, 1, 0, 1, 1, 1, 1, 1, 1, 1, 1, 1, 0, 2, 1, 1, 1,\n",
       "       1, 1, 1, 1, 1, 1, 1, 0, 1, 1, 1, 1, 0, 1, 1, 1, 1, 1, 0, 1, 1, 0,\n",
       "       1, 1, 1, 1, 1, 1, 1, 1, 1, 1, 1, 1, 0, 0, 0, 1, 1, 1, 0, 1, 1, 0,\n",
       "       0, 1, 1, 0, 2, 1, 2, 1, 1, 2, 1, 1, 1, 1, 1, 1, 1, 2, 1, 1, 1, 1,\n",
       "       1, 1, 0, 1, 1, 1, 1, 1, 1, 2, 1, 1, 0, 1, 1, 1, 0, 1, 1, 1, 1, 0,\n",
       "       1, 1, 1, 1, 1, 1, 1, 1, 0, 2, 0, 1, 1, 1, 0, 0, 1, 1, 1, 1, 1, 1,\n",
       "       0, 1, 1, 1, 1, 1, 1, 2, 1, 1, 1, 1, 1, 0, 1, 1, 1, 1, 1, 1, 1, 1,\n",
       "       1, 0, 1, 1, 1, 1, 1, 1, 2, 1, 1, 1, 2, 1, 1, 1, 1, 1, 0, 1, 1, 0,\n",
       "       1, 0, 1])"
      ]
     },
     "execution_count": 141,
     "metadata": {},
     "output_type": "execute_result"
    }
   ],
   "source": [
    "kmeans = KMeans(n_clusters = 3, init = 'k-means++', random_state = 42)\n",
    "y_pred=kmeans.fit_predict(X_test)\n",
    "y_pred"
   ]
  },
  {
   "cell_type": "code",
   "execution_count": 142,
   "metadata": {},
   "outputs": [
    {
     "data": {
      "text/plain": [
       "868"
      ]
     },
     "execution_count": 142,
     "metadata": {},
     "output_type": "execute_result"
    }
   ],
   "source": [
    "np.sum(y_true)"
   ]
  },
  {
   "cell_type": "code",
   "execution_count": 143,
   "metadata": {},
   "outputs": [
    {
     "data": {
      "text/plain": [
       "218"
      ]
     },
     "execution_count": 143,
     "metadata": {},
     "output_type": "execute_result"
    }
   ],
   "source": [
    "np.sum(y_pred)"
   ]
  },
  {
   "cell_type": "code",
   "execution_count": 144,
   "metadata": {},
   "outputs": [
    {
     "name": "stdout",
     "output_type": "stream",
     "text": [
      "Accuracy score:  1.0\n"
     ]
    }
   ],
   "source": [
    "from sklearn.metrics import accuracy_score\n",
    "print('Accuracy score: ', accuracy_score(y_pred, y_test))"
   ]
  },
  {
   "cell_type": "code",
   "execution_count": 145,
   "metadata": {},
   "outputs": [
    {
     "data": {
      "text/plain": [
       "array([[ 42,   0,   0],\n",
       "       [  0, 188,   0],\n",
       "       [  0,   0,  15]], dtype=int64)"
      ]
     },
     "execution_count": 145,
     "metadata": {},
     "output_type": "execute_result"
    }
   ],
   "source": [
    "from sklearn.metrics import confusion_matrix\n",
    "confusion_matrix(y_pred, y_test)"
   ]
  },
  {
   "cell_type": "code",
   "execution_count": 154,
   "metadata": {},
   "outputs": [
    {
     "name": "stdout",
     "output_type": "stream",
     "text": [
      "              precision    recall  f1-score   support\n",
      "\n",
      "           0       1.00      1.00      1.00        42\n",
      "           1       1.00      1.00      1.00       188\n",
      "           2       1.00      1.00      1.00        15\n",
      "\n",
      "    accuracy                           1.00       245\n",
      "   macro avg       1.00      1.00      1.00       245\n",
      "weighted avg       1.00      1.00      1.00       245\n",
      "\n"
     ]
    }
   ],
   "source": [
    "from sklearn.metrics import classification_report\n",
    "print(classification_report(y_pred, y_test))"
   ]
  }
 ],
 "metadata": {
  "kernelspec": {
   "display_name": "Python 3",
   "language": "python",
   "name": "python3"
  },
  "language_info": {
   "codemirror_mode": {
    "name": "ipython",
    "version": 3
   },
   "file_extension": ".py",
   "mimetype": "text/x-python",
   "name": "python",
   "nbconvert_exporter": "python",
   "pygments_lexer": "ipython3",
   "version": "3.8.5"
  }
 },
 "nbformat": 4,
 "nbformat_minor": 4
}
